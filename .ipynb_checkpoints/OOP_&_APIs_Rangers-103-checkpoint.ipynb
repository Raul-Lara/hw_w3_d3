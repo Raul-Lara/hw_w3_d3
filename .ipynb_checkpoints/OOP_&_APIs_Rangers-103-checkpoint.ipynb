{
 "cells": [
  {
   "cell_type": "markdown",
   "metadata": {},
   "source": [
    "# Object Oriented Programming 2 - examples and APIs\n"
   ]
  },
  {
   "cell_type": "markdown",
   "metadata": {},
   "source": [
    "## Tasks Today:\n",
    "\n",
    "   \n",
    "\n",
    "1) <b>Shopping Cart Example</b> <br>\n",
    "2) <b>Requests and the pokemon API </b> <br>\n",
    " "
   ]
  },
  {
   "cell_type": "markdown",
   "metadata": {},
   "source": [
    "# Goal \n",
    "### build a shopping cart program with prices and quantities using objects and a dictionary"
   ]
  },
  {
   "cell_type": "code",
   "execution_count": null,
   "metadata": {},
   "outputs": [],
   "source": [
    "from IPython.display import clear_output as clear\n",
    "# Create a class called cart that retains items and has methods to add, remove, and show\n",
    "\n",
    "class cart():\n",
    "    def __init__(self):\n",
    "        self.items = {} #{item:quantity}\n",
    "    \n",
    "    #add items to your cart\n",
    "    def add(self):\n",
    "#         clear()\n",
    "        new_item = input(\"what would you like to add \")\n",
    "        quantity = int(input((f\"how many {new_item}(s) do you want to add?(insert numer)\")))\n",
    "        if new_item not in self.items.keys():\n",
    "            self.items[new_item] = quantity\n",
    "        else:\n",
    "            self.items[new_item] += quantity\n",
    "        print(f\"{quantity} {new_item}(s) have been added to the cart\")\n",
    "    #remove items from your cart\n",
    "    def remove(self):\n",
    "#         clear()\n",
    "        discard = input(\"what would you like to discard? \")\n",
    "        quantity = int(input(\"How many would you like to remove \"))\n",
    "        try:\n",
    "            self.items[discard] -= quantity\n",
    "            if self.items[discard] <= 0:\n",
    "                del self.items[discard]\n",
    "            print(f\"{quantity}{discard}(s) have been remove\")\n",
    "        except:\n",
    "            print(f\"{discard} was not in your cart!\")\n",
    "        self.show()\n",
    "        #show items in your cart \n",
    "    def show(self):\n",
    "        print(\"your cart has the following items: \")\n",
    "        for item, quantity in self.items.items():\n",
    "            print(f\"{item} | quantity: {quantity}\")\n",
    "                    \n",
    "   \n",
    "    \n",
    "    #checkout items form your cart\n",
    "    def checkout(self):\n",
    "        clear()\n",
    "        if not self.items:\n",
    "            print(\"please buy something before checking out!\")\n",
    "        else:\n",
    "            print(\"thanks for shopping!\")\n",
    "            self.show()\n",
    "#control flow - run the overall program\n",
    "\n",
    "class Main:\n",
    "    def showInstruction():\n",
    "        print(\"\"\"\n",
    "        Welcome to Aldi!\n",
    "        [1] show Current cart\n",
    "        [2] add item\n",
    "        [3] remove item\n",
    "        [4] quit\n",
    "        [5] show Instructions\n",
    "        \"\"\")\n",
    "    def run():\n",
    "        Main.showInstruction()\n",
    "        my_cart = cart()\n",
    "        \n",
    "        while True:\n",
    "            choice = input(\"What would you like to do\")\n",
    "            if choice == \"1\":\n",
    "                if my_cart.items == {}:\n",
    "                    print(\"your cart is empty!\")\n",
    "                else:\n",
    "                    my_cart.show()\n",
    "            elif choice == \"2\":\n",
    "                my_cart.add()\n",
    "            elif choice == \"3\":\n",
    "                if my_cart.items == {}:\n",
    "                    print(\"your cart is empty, add before removing\")\n",
    "                else:\n",
    "                    my_cart.remove()\n",
    "            elif choice == \"4\":\n",
    "                my_cart.checkout()\n",
    "                break\n",
    "            elif choice == \"5\":\n",
    "                main.showInstructions()\n",
    "                \n",
    "            else:\n",
    "                print(\"invalid input\")\n",
    "                \n",
    "Main.run()                \n"
   ]
  },
  {
   "cell_type": "markdown",
   "metadata": {},
   "source": [
    "# working with APis"
   ]
  },
  {
   "cell_type": "markdown",
   "metadata": {},
   "source": [
    "<p> What exactly is an API? <br> <br>\n",
    "API is the acronym for Application Programming Interface, which is a software intermediary that allows two applications to talk to each other. Each time you use an app like Facebook, send an instant message, or check the weather on your phone, you're using an API. </p>"
   ]
  },
  {
   "cell_type": "markdown",
   "metadata": {},
   "source": [
    "### The Poke API  allows you to retreive a pokemon's information from PokeAPI https://pokeapi.co/\n",
    "\n"
   ]
  },
  {
   "cell_type": "code",
   "execution_count": null,
   "metadata": {},
   "outputs": [],
   "source": [
    "pip install requests\n"
   ]
  },
  {
   "cell_type": "code",
   "execution_count": null,
   "metadata": {},
   "outputs": [],
   "source": [
    "# making an API call\n",
    "import requests\n",
    "\n",
    "r = requests.get(\"https://pokeapi.co/api/v2/pokemon/charmander\")\n",
    "if r.status_code == 200:\n",
    "    data = r.json()\n",
    "print(data.keys())"
   ]
  },
  {
   "cell_type": "markdown",
   "metadata": {},
   "source": [
    "### Display a Pokemon's name, weight, abilities, and types"
   ]
  },
  {
   "cell_type": "code",
   "execution_count": null,
   "metadata": {},
   "outputs": [],
   "source": [
    "# get the name\n",
    "name = data[\"name\"]\n",
    "print(name)"
   ]
  },
  {
   "cell_type": "code",
   "execution_count": null,
   "metadata": {},
   "outputs": [],
   "source": [
    "# get types\n",
    "types = [type_[\"type\"][\"name\"] for type_ in data[\"types\"]]\n",
    "\n",
    "# for type_ in data[\"types\"]:\n",
    "#     my_types.append(type_[\"type\"][\"name\"])\n",
    "print(types)"
   ]
  },
  {
   "cell_type": "code",
   "execution_count": null,
   "metadata": {},
   "outputs": [],
   "source": [
    "# get weight\n",
    "weight = data[\"weight\"]\n",
    "print(weight)"
   ]
  },
  {
   "cell_type": "code",
   "execution_count": null,
   "metadata": {},
   "outputs": [],
   "source": [
    "# get abilities\n",
    "abilities = [ability[\"ability\"][\"name\"] for ability in data[\"abilities\"]]\n",
    "print(abilities)"
   ]
  },
  {
   "cell_type": "code",
   "execution_count": null,
   "metadata": {},
   "outputs": [],
   "source": [
    "# Create a structure for a single pokemon\n",
    "my_pokemon = {\n",
    "    \"name\": \"\",\n",
    "    \"abilities\": []\n",
    "    \"weight\": \"\",\n",
    "    \"types\" ; []\n",
    "}"
   ]
  },
  {
   "cell_type": "code",
   "execution_count": null,
   "metadata": {},
   "outputs": [],
   "source": [
    "charmander ={\n",
    "    \"name\": name,\n",
    "    \"abilities\": abilities,\n",
    "    \"weight\": weight,\n",
    "    \"types\": types\n",
    "}\n",
    "print(charmander)"
   ]
  },
  {
   "cell_type": "markdown",
   "metadata": {},
   "source": [
    "#### Create a function to Pull in your own Pokemon's data "
   ]
  },
  {
   "cell_type": "code",
   "execution_count": null,
   "metadata": {},
   "outputs": [],
   "source": [
    "import requests\n",
    "party = ['heracross', 'vaporeon','flygon','charizard','pidgeot','crobat']\n",
    "def poke_api_call(pokemon):\n",
    "    req = requests.get(f\"https://pokeapi.co/api/v2/pokemon/{pokemon}\")\n",
    "    if req.status_code == 200:\n",
    "        data = req.json()\n",
    "    name = data[\"name\"]\n",
    "    types = [type_[\"type\"][\"name\"] for type_ in data[\"types\"]]\n",
    "    weight = data[\"weight\"]\n",
    "    abilities = [ability[\"ability\"][\"name\"] for ability in data[\"abilities\"]]\n",
    "    \n",
    "    poke ={\n",
    "    \"name\": name,\n",
    "    \"abilities\": abilities,\n",
    "    \"weight\": weight,\n",
    "    \"types\": types\n",
    "    }\n",
    "    return poke\n",
    "   \n",
    "# Place all 6 of your pokemon on the object below, each pokemon should have at least as much info as Pikachu did.\n",
    "my_six_pokemon = {}\n",
    "for pokemon in party:\n",
    "    poke_stats = poke_api_call(pokemon)\n",
    "    my_six_pokemon[poke_stats[\"name\"].title()] = poke_stats\n",
    "print(my_six_pokemon)"
   ]
  },
  {
   "cell_type": "markdown",
   "metadata": {},
   "source": [
    "Choose your pokemon"
   ]
  },
  {
   "cell_type": "code",
   "execution_count": null,
   "metadata": {},
   "outputs": [],
   "source": [
    "from random import randint\n",
    "# Random number generated for each pokemon id\n",
    "random_team = [randint(1,898) for i in range(6)]\n",
    "\n",
    "your_team = ['electabuzz', 'haunter','tyranitar','blaziken','marowak','dragonair']\n"
   ]
  },
  {
   "cell_type": "markdown",
   "metadata": {},
   "source": [
    "#### Use your function to create a dictionary of your favorite 6 pokemon"
   ]
  },
  {
   "cell_type": "code",
   "execution_count": null,
   "metadata": {},
   "outputs": [],
   "source": [
    "# Place all 6 of your pokemon on the object below, each pokemon should have at least as much info as Pikachu did.\n",
    "my_six_pokemon = {}\n"
   ]
  },
  {
   "cell_type": "markdown",
   "metadata": {},
   "source": [
    "## Lets create a class called 'Pokemon' and create our pokemon as instances"
   ]
  },
  {
   "cell_type": "code",
   "execution_count": null,
   "metadata": {},
   "outputs": [],
   "source": [
    "class Pokemon():\n",
    "    def __init__(self,name):\n",
    "        self.name = name\n",
    "        self.types = []\n",
    "        self.abilities = []\n",
    "        self.weight = None\n",
    "        self.poke_api_call()\n",
    "        \n",
    "    def poke_api_call(self):\n",
    "        r = requests.get(f\"https://pokeapi.co/api/v2/pokemon/{self.name}\")\n",
    "        if r.status_code == 200:\n",
    "            pokemon = r.json()\n",
    "        else:\n",
    "            print(f\"please check pokemon name spelling and try again: {r.status_code}\")\n",
    "            return\n",
    "        \n",
    "        self.name = pokemon[\"name\"]\n",
    "        self.types = [pokemon[\"type\"][\"name\"] for pokemon in pokemon[\"types\"]]\n",
    "        self.abilities = [pokemon[\"ability\"][\"name\"] for pokemon in pokemon[\"abilities\"]]\n",
    "        self.weight = pokemon[\"weight\"]\n",
    "        print(f\"{self.name}'s data has been updated!\")\n",
    "    def __repr__(self):\n",
    "        return f\"You caught a {self.name}!!\""
   ]
  },
  {
   "cell_type": "markdown",
   "metadata": {},
   "source": [
    "### Let's Catch some Pokemon"
   ]
  },
  {
   "cell_type": "code",
   "execution_count": null,
   "metadata": {},
   "outputs": [],
   "source": [
    "charmander = Pokemon(\"charmander\")\n",
    "print(charmander)\n",
    "print(charmander.__dict__)"
   ]
  },
  {
   "cell_type": "code",
   "execution_count": null,
   "metadata": {},
   "outputs": [],
   "source": [
    "party = ['heracross', 'vaporeon','flygon','charizard','pidgeot','crobat']\n",
    "pokedex = {}\n",
    "for name in party:\n",
    "    new = Pokemon(name)\n",
    "    pokedex[new.name] = new.__dict__\n",
    "\n"
   ]
  },
  {
   "cell_type": "markdown",
   "metadata": {},
   "source": [
    "## Exercise 1:"
   ]
  },
  {
   "cell_type": "markdown",
   "metadata": {},
   "source": [
    "### Create a Method prints an image of your pokemon\n",
    "\n",
    "<p>HINT: You may need another attribute as well to store your image url within. </p>"
   ]
  },
  {
   "cell_type": "code",
   "execution_count": null,
   "metadata": {},
   "outputs": [],
   "source": [
    "\n"
   ]
  },
  {
   "cell_type": "code",
   "execution_count": null,
   "metadata": {},
   "outputs": [],
   "source": [
    "heracross = Pokemon(\"heracross\")\n",
    "heracross.display()"
   ]
  },
  {
   "cell_type": "code",
   "execution_count": null,
   "metadata": {},
   "outputs": [],
   "source": [
    "# recreate your pokemon class here\n",
    "class Pokemon:\n",
    "    pass"
   ]
  },
  {
   "cell_type": "code",
   "execution_count": null,
   "metadata": {},
   "outputs": [],
   "source": []
  },
  {
   "cell_type": "code",
   "execution_count": null,
   "metadata": {},
   "outputs": [],
   "source": [
    "# Calling our new method\n"
   ]
  },
  {
   "cell_type": "markdown",
   "metadata": {},
   "source": [
    "## Exercise 2:"
   ]
  },
  {
   "cell_type": "markdown",
   "metadata": {},
   "source": [
    "### Create a Method that evolves your Pokemon\n",
    "If your pokemon can't evolve any further print a message that says \"\\<name of pokemon> can't evolve.\""
   ]
  },
  {
   "cell_type": "code",
   "execution_count": 19,
   "metadata": {},
   "outputs": [],
   "source": [
    "from time import sleep\n",
    "class Evolver:\n",
    "    def evolve(self):\n",
    "        #API call for pokemon's species\n",
    "        r = requests.get(f\"https://pokeapi.co/api/v2/pokemon-species/{self.name}/\")\n",
    "        if r.status_code == 200:\n",
    "            pokemon_species = r.json()\n",
    "        else:\n",
    "            print(f\"Ran into an issue, please check your pokemon's name {r.status_code}\")\n",
    "            return\n",
    "        r = requests.get(pokemon_species[\"evolution_chain\"][\"url\"])\n",
    "        if r.status_code == 200:\n",
    "            ev_chain = r.json()\n",
    "            ev_chain = ev_chain[\"chain\"]\n",
    "\n",
    "        else:\n",
    "            print(f\"Ran into an issue, please check your pokemon's name {r.status_code}\")\n",
    "            return\n",
    "\n",
    "        base_name = ev_chain[\"species\"][\"name\"]\n",
    "        evolution = ev_chain[\"evolves_to\"][0]\n",
    "        evolution_name = evolution[\"species\"][\"name\"]\n",
    "\n",
    "        #evolution 1\n",
    "        if base_name == self.name:\n",
    "            print(self.name)\n",
    "            pass\n",
    "        \n",
    "        #evolution 2\n",
    "        elif evolution_name == self.name:\n",
    "            evolution_name = evolution[\"evolves_to\"][0][\"species\"][\"name\"]\n",
    "\n",
    "        #evolution 3\n",
    "        else:\n",
    "            print(f\"You cant evolve you {self.name} anymore....\")\n",
    "            return\n",
    "        print('.......')\n",
    "        sleep(1)\n",
    "        print(f\"your{self.name} is evolving!?!?\")\n",
    "        self.display()\n",
    "        sleep(1)\n",
    "        print('......')\n",
    "        self.name = evolution_name\n",
    "        self.poke_api_call()\n",
    "        self.display()\n"
   ]
  },
  {
   "cell_type": "code",
   "execution_count": 20,
   "metadata": {},
   "outputs": [],
   "source": [
    "# Display an image in Jupyter notebook\n",
    "# display(Image( 'https://i.redd.it/45n4mhusa8l41.jpg', width = 300))\n",
    "# recreate your pokemon class here\n",
    "import requests\n",
    "from IPython.display import Image\n",
    "\n",
    "class Pokemon(Evolver):\n",
    "    def __init__(self, name):\n",
    "        self.name = name\n",
    "        self.types = []\n",
    "        self.abilities = []\n",
    "        self.weight = None\n",
    "        #new image attribute\n",
    "        self.image = None\n",
    "        self.poke_api_call()\n",
    "        \n",
    "    def poke_api_call(self):\n",
    "        r = requests.get(f\"https://pokeapi.co/api/v2/pokemon/{self.name.lower()}\")\n",
    "        if r.status_code == 200:\n",
    "            pokemon = r.json()\n",
    "        else:\n",
    "            print(f\"Please check pokemon name spelling and try again: {r.status_code}\")\n",
    "            return\n",
    "        \n",
    "        self.name = pokemon['name']\n",
    "        self.types = [pokemon['type']['name'] for pokemon in pokemon['types']]\n",
    "        self.abilities = [pokemon['ability']['name'] for pokemon in pokemon['abilities']]\n",
    "        self.weight = pokemon['weight']\n",
    "        #new image here\n",
    "        self.image = pokemon[\"sprites\"][\"front_shiny\"]\n",
    "        print(f\"{self.name}'s data has been updated!\")\n",
    "    \n",
    "    def display(self):\n",
    "        display(Image(url = self.image))\n",
    "    \n",
    "    def __repr__(self):\n",
    "        return f\"You caught a {self.name}!!\"\n"
   ]
  },
  {
   "cell_type": "markdown",
   "metadata": {},
   "source": [
    "Now let's evolve a few"
   ]
  },
  {
   "cell_type": "code",
   "execution_count": 21,
   "metadata": {
    "scrolled": true
   },
   "outputs": [
    {
     "name": "stdout",
     "output_type": "stream",
     "text": [
      "charmander's data has been updated!\n"
     ]
    }
   ],
   "source": [
    "charmander = Pokemon(\"charmander\")"
   ]
  },
  {
   "cell_type": "code",
   "execution_count": 22,
   "metadata": {},
   "outputs": [
    {
     "name": "stdout",
     "output_type": "stream",
     "text": [
      "charmander\n",
      ".......\n",
      "yourcharmander is evolving!?!?\n"
     ]
    },
    {
     "data": {
      "text/html": [
       "<img src=\"https://raw.githubusercontent.com/PokeAPI/sprites/master/sprites/pokemon/shiny/4.png\"/>"
      ],
      "text/plain": [
       "<IPython.core.display.Image object>"
      ]
     },
     "metadata": {},
     "output_type": "display_data"
    },
    {
     "name": "stdout",
     "output_type": "stream",
     "text": [
      "......\n",
      "charmeleon's data has been updated!\n"
     ]
    },
    {
     "data": {
      "text/html": [
       "<img src=\"https://raw.githubusercontent.com/PokeAPI/sprites/master/sprites/pokemon/shiny/5.png\"/>"
      ],
      "text/plain": [
       "<IPython.core.display.Image object>"
      ]
     },
     "metadata": {},
     "output_type": "display_data"
    }
   ],
   "source": [
    "charmander.evolve()"
   ]
  },
  {
   "cell_type": "code",
   "execution_count": null,
   "metadata": {},
   "outputs": [],
   "source": []
  },
  {
   "cell_type": "markdown",
   "metadata": {},
   "source": [
    "#  Final Exercise: <br> <br>Create a Move_Tutor Class that will allow the Pokemon Class to inherit a move list.\n",
    "<br>\n",
    "<p>for an added bonus you can make sure that if a pokemon has 4 moves the user can choose one of them to replace with a new move. </p>"
   ]
  },
  {
   "cell_type": "code",
   "execution_count": null,
   "metadata": {},
   "outputs": [],
   "source": [
    "class Move_Tutor:\n",
    "    def __init__(self):\n",
    "        self.move_list = []\n",
    "        self.name = name\n",
    "        \n",
    "    def get_moves(self):\n",
    "        r = requests.get(f\"https://pokeapi.co/api/v2/pokemon/{self.name.lower()}\")\n",
    "        if r.status_code == 200:\n",
    "            pokemon = r.json()\n",
    "        else:\n",
    "            print(f\"Please check pokemon name spelling and try again: {r.status_code}\")\n",
    "            return\n",
    "        \n",
    "        self.name = pokemon['name']\n",
    "#         self.moves = [pokemon['moves']\n",
    "       sey_list = []\n",
    "        for x in pokemon['moves']:\n",
    "            my_list.append(x['move']['name'])\n",
    "                      \n",
    "        #new image here\n",
    "        print(f\"{self.name}'s data has been updated!\")"
   ]
  },
  {
   "cell_type": "code",
   "execution_count": null,
   "metadata": {},
   "outputs": [],
   "source": []
  },
  {
   "cell_type": "code",
   "execution_count": null,
   "metadata": {},
   "outputs": [],
   "source": [
    "pikachu.teach_move()\n"
   ]
  },
  {
   "cell_type": "code",
   "execution_count": null,
   "metadata": {},
   "outputs": [],
   "source": [
    "pikachu.show_moves()"
   ]
  }
 ],
 "metadata": {
  "kernelspec": {
   "display_name": "Python 3 (ipykernel)",
   "language": "python",
   "name": "python3"
  },
  "language_info": {
   "codemirror_mode": {
    "name": "ipython",
    "version": 3
   },
   "file_extension": ".py",
   "mimetype": "text/x-python",
   "name": "python",
   "nbconvert_exporter": "python",
   "pygments_lexer": "ipython3",
   "version": "3.10.7"
  }
 },
 "nbformat": 4,
 "nbformat_minor": 4
}
